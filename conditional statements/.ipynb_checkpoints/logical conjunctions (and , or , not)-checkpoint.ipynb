{
 "cells": [
  {
   "cell_type": "code",
   "execution_count": 2,
   "id": "cb21cf76",
   "metadata": {},
   "outputs": [
    {
     "data": {
      "text/plain": [
       "True"
      ]
     },
     "execution_count": 2,
     "metadata": {},
     "output_type": "execute_result"
    }
   ],
   "source": [
    "1 < 2 and \"Hasan\" == \"Hasan\""
   ]
  },
  {
   "cell_type": "code",
   "execution_count": 3,
   "id": "c326876a",
   "metadata": {},
   "outputs": [
    {
     "data": {
      "text/plain": [
       "False"
      ]
     },
     "execution_count": 3,
     "metadata": {},
     "output_type": "execute_result"
    }
   ],
   "source": [
    "1 > 2 and \"Hasan\" == \"Hasan\""
   ]
  },
  {
   "cell_type": "code",
   "execution_count": 4,
   "id": "d8e5565e",
   "metadata": {},
   "outputs": [
    {
     "data": {
      "text/plain": [
       "True"
      ]
     },
     "execution_count": 4,
     "metadata": {},
     "output_type": "execute_result"
    }
   ],
   "source": [
    "1 < 2 and \"Hasan\" == \"Hasan\" and 4.32 < 5.43"
   ]
  },
  {
   "cell_type": "code",
   "execution_count": 5,
   "id": "adffc063",
   "metadata": {},
   "outputs": [
    {
     "data": {
      "text/plain": [
       "True"
      ]
     },
     "execution_count": 5,
     "metadata": {},
     "output_type": "execute_result"
    }
   ],
   "source": [
    "1 > 2 or \"Hasan\" == \"Hasan\""
   ]
  },
  {
   "cell_type": "code",
   "execution_count": 6,
   "id": "95f31982",
   "metadata": {},
   "outputs": [
    {
     "data": {
      "text/plain": [
       "False"
      ]
     },
     "execution_count": 6,
     "metadata": {},
     "output_type": "execute_result"
    }
   ],
   "source": [
    "1 > 2 and \"Hasan\" != \"Hasan\""
   ]
  },
  {
   "cell_type": "code",
   "execution_count": 7,
   "id": "5324a55a",
   "metadata": {},
   "outputs": [
    {
     "data": {
      "text/plain": [
       "False"
      ]
     },
     "execution_count": 7,
     "metadata": {},
     "output_type": "execute_result"
    }
   ],
   "source": [
    "not 2 == 2 "
   ]
  },
  {
   "cell_type": "code",
   "execution_count": 10,
   "id": "ecd9e04e",
   "metadata": {},
   "outputs": [
    {
     "data": {
      "text/plain": [
       "True"
      ]
     },
     "execution_count": 10,
     "metadata": {},
     "output_type": "execute_result"
    }
   ],
   "source": [
    "not (2.14 > 3.49 or ( 2 != 2 and \"Hasan == Hasan\"))"
   ]
  },
  {
   "cell_type": "code",
   "execution_count": null,
   "id": "a51b8df3",
   "metadata": {},
   "outputs": [],
   "source": []
  }
 ],
 "metadata": {
  "kernelspec": {
   "display_name": "Python 3 (ipykernel)",
   "language": "python",
   "name": "python3"
  },
  "language_info": {
   "codemirror_mode": {
    "name": "ipython",
    "version": 3
   },
   "file_extension": ".py",
   "mimetype": "text/x-python",
   "name": "python",
   "nbconvert_exporter": "python",
   "pygments_lexer": "ipython3",
   "version": "3.9.9"
  }
 },
 "nbformat": 4,
 "nbformat_minor": 5
}
