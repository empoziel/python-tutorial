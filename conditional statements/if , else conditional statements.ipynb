{
 "cells": [
  {
   "cell_type": "code",
   "execution_count": 1,
   "id": "ec21229c",
   "metadata": {},
   "outputs": [
    {
     "name": "stdout",
     "output_type": "stream",
     "text": [
      "yaşınızı girin:17\n",
      "mekana giremezsiniz!\n"
     ]
    }
   ],
   "source": [
    "yaş = int(input(\"yaşınızı girin:\"))\n",
    "\n",
    "if yaş < 18:\n",
    "    print(\"mekana giremezsiniz!\")"
   ]
  },
  {
   "cell_type": "code",
   "execution_count": 3,
   "id": "1e3cfc8f",
   "metadata": {},
   "outputs": [
    {
     "name": "stdout",
     "output_type": "stream",
     "text": [
      "yaşınızı girin:19\n",
      "mekana hoşgeldiniz!\n"
     ]
    }
   ],
   "source": [
    "yaş = int(input(\"yaşınızı girin:\"))\n",
    "\n",
    "if yaş < 18:\n",
    "    print(\"mekana giremezsiniz!\")\n",
    "else:\n",
    "    print(\"mekana hoşgeldiniz!\")"
   ]
  },
  {
   "cell_type": "code",
   "execution_count": 4,
   "id": "3d310267",
   "metadata": {},
   "outputs": [
    {
     "name": "stdout",
     "output_type": "stream",
     "text": [
      "Sayı:2\n",
      "sıfır veya pozitif sayı:\n"
     ]
    }
   ],
   "source": [
    "sayı = int(input(\"Sayı:\"))\n",
    "\n",
    "if sayı<0:\n",
    "    print(\"negatif\")\n",
    "else:\n",
    "    print(\"sıfır veya pozitif sayı:\")"
   ]
  },
  {
   "cell_type": "code",
   "execution_count": null,
   "id": "925aaf85",
   "metadata": {},
   "outputs": [],
   "source": []
  }
 ],
 "metadata": {
  "kernelspec": {
   "display_name": "Python 3 (ipykernel)",
   "language": "python",
   "name": "python3"
  },
  "language_info": {
   "codemirror_mode": {
    "name": "ipython",
    "version": 3
   },
   "file_extension": ".py",
   "mimetype": "text/x-python",
   "name": "python",
   "nbconvert_exporter": "python",
   "pygments_lexer": "ipython3",
   "version": "3.9.9"
  }
 },
 "nbformat": 4,
 "nbformat_minor": 5
}
