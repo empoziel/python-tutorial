{
 "cells": [
  {
   "cell_type": "code",
   "execution_count": 1,
   "id": "d2269fb1",
   "metadata": {},
   "outputs": [
    {
     "name": "stdout",
     "output_type": "stream",
     "text": [
      "işlem giriniz:3\n",
      "işlem 3 seçildi.\n"
     ]
    }
   ],
   "source": [
    "işlem = input(\"işlem giriniz:\")\n",
    "\n",
    "if işlem == \"1\":\n",
    "    print (\"işlem 1 seçildi.\")\n",
    "elif işlem == \"2\":\n",
    "    print (\"işlem 2 seçildi.\")\n",
    "elif işlem == \"3\":\n",
    "    print (\"işlem 3 seçildi.\")\n",
    "elif işlem == \"4\":\n",
    "    print (\"işlem 4 seçildi.\")\n",
    "    \n",
    "else:\n",
    "    print(\"geçersiz işlem!\")\n",
    "    "
   ]
  },
  {
   "cell_type": "code",
   "execution_count": 2,
   "id": "a60f2c97",
   "metadata": {},
   "outputs": [
    {
     "ename": "SyntaxError",
     "evalue": "invalid syntax (Temp/ipykernel_8360/2762755953.py, line 1)",
     "output_type": "error",
     "traceback": [
      "\u001b[1;36m  File \u001b[1;32m\"C:\\Users\\HASANK~1\\AppData\\Local\\Temp/ipykernel_8360/2762755953.py\"\u001b[1;36m, line \u001b[1;32m1\u001b[0m\n\u001b[1;33m    else:\u001b[0m\n\u001b[1;37m    ^\u001b[0m\n\u001b[1;31mSyntaxError\u001b[0m\u001b[1;31m:\u001b[0m invalid syntax\n"
     ]
    }
   ],
   "source": [
    "else:\n",
    "    print(\"Geçersiz işlem\")"
   ]
  },
  {
   "cell_type": "code",
   "execution_count": 3,
   "id": "d7d1d620",
   "metadata": {},
   "outputs": [
    {
     "ename": "SyntaxError",
     "evalue": "invalid syntax (Temp/ipykernel_8360/989936419.py, line 1)",
     "output_type": "error",
     "traceback": [
      "\u001b[1;36m  File \u001b[1;32m\"C:\\Users\\HASANK~1\\AppData\\Local\\Temp/ipykernel_8360/989936419.py\"\u001b[1;36m, line \u001b[1;32m1\u001b[0m\n\u001b[1;33m    elif işlem == \"2\":\u001b[0m\n\u001b[1;37m    ^\u001b[0m\n\u001b[1;31mSyntaxError\u001b[0m\u001b[1;31m:\u001b[0m invalid syntax\n"
     ]
    }
   ],
   "source": [
    "elif işlem == \"2\":\n",
    "    print (\"işlem 2 seçildi.\")"
   ]
  },
  {
   "cell_type": "code",
   "execution_count": 4,
   "id": "6fc949d9",
   "metadata": {},
   "outputs": [
    {
     "name": "stdout",
     "output_type": "stream",
     "text": [
      "Notunuzu girin.55\n",
      "kaldınız.\n"
     ]
    }
   ],
   "source": [
    "note = float(input(\"Notunuzu girin.\"))\n",
    "\n",
    "if (note >=90):\n",
    "    print(\"AA\")\n",
    "elif (note >= 85):\n",
    "    print(\"BA\")\n",
    "elif (note >= 80):\n",
    "    print(\"BB\")\n",
    "elif (note >= 75):\n",
    "    print(\"CB\")\n",
    "else:\n",
    "    print(\"kaldınız.\")"
   ]
  },
  {
   "cell_type": "code",
   "execution_count": null,
   "id": "75799bb8",
   "metadata": {},
   "outputs": [],
   "source": []
  }
 ],
 "metadata": {
  "kernelspec": {
   "display_name": "Python 3 (ipykernel)",
   "language": "python",
   "name": "python3"
  },
  "language_info": {
   "codemirror_mode": {
    "name": "ipython",
    "version": 3
   },
   "file_extension": ".py",
   "mimetype": "text/x-python",
   "name": "python",
   "nbconvert_exporter": "python",
   "pygments_lexer": "ipython3",
   "version": "3.9.9"
  }
 },
 "nbformat": 4,
 "nbformat_minor": 5
}
