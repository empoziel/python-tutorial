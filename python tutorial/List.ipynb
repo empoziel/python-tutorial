{
 "cells": [
  {
   "cell_type": "code",
   "execution_count": 1,
   "id": "56bcc3eb",
   "metadata": {},
   "outputs": [],
   "source": [
    "liste = [\"Elma\",33,\"Apple\",\"Hello\",3.15]"
   ]
  },
  {
   "cell_type": "code",
   "execution_count": 2,
   "id": "12b1854b",
   "metadata": {},
   "outputs": [
    {
     "data": {
      "text/plain": [
       "list"
      ]
     },
     "execution_count": 2,
     "metadata": {},
     "output_type": "execute_result"
    }
   ],
   "source": [
    "type(liste)"
   ]
  },
  {
   "cell_type": "code",
   "execution_count": 3,
   "id": "fc9a226a",
   "metadata": {},
   "outputs": [
    {
     "data": {
      "text/plain": [
       "[]"
      ]
     },
     "execution_count": 3,
     "metadata": {},
     "output_type": "execute_result"
    }
   ],
   "source": [
    "liste = []\n",
    "liste "
   ]
  },
  {
   "cell_type": "code",
   "execution_count": 4,
   "id": "15b0795e",
   "metadata": {},
   "outputs": [],
   "source": [
    "liste = list()"
   ]
  },
  {
   "cell_type": "code",
   "execution_count": 5,
   "id": "b9919510",
   "metadata": {},
   "outputs": [
    {
     "data": {
      "text/plain": [
       "[]"
      ]
     },
     "execution_count": 5,
     "metadata": {},
     "output_type": "execute_result"
    }
   ],
   "source": [
    "liste"
   ]
  },
  {
   "cell_type": "code",
   "execution_count": 6,
   "id": "663e4c71",
   "metadata": {},
   "outputs": [
    {
     "data": {
      "text/plain": [
       "9"
      ]
     },
     "execution_count": 6,
     "metadata": {},
     "output_type": "execute_result"
    }
   ],
   "source": [
    "liste2 = [1,2,4,5,6,7,8,4,5,]\n",
    "len(liste2)"
   ]
  },
  {
   "cell_type": "code",
   "execution_count": 7,
   "id": "d2d8c969",
   "metadata": {},
   "outputs": [
    {
     "data": {
      "text/plain": [
       "['H', 'e', 'l', 'l', 'o']"
      ]
     },
     "execution_count": 7,
     "metadata": {},
     "output_type": "execute_result"
    }
   ],
   "source": [
    "liste = list(\"Hello\")\n",
    "liste"
   ]
  },
  {
   "cell_type": "code",
   "execution_count": 10,
   "id": "8e1b31a3",
   "metadata": {},
   "outputs": [
    {
     "data": {
      "text/plain": [
       "5"
      ]
     },
     "execution_count": 10,
     "metadata": {},
     "output_type": "execute_result"
    }
   ],
   "source": [
    "liste = [3,4,5,6,7,8,9]\n",
    "liste[2]"
   ]
  },
  {
   "cell_type": "code",
   "execution_count": 9,
   "id": "8388cd01",
   "metadata": {},
   "outputs": [
    {
     "data": {
      "text/plain": [
       "9"
      ]
     },
     "execution_count": 9,
     "metadata": {},
     "output_type": "execute_result"
    }
   ],
   "source": [
    "liste[-1]"
   ]
  },
  {
   "cell_type": "code",
   "execution_count": 12,
   "id": "8ba62826",
   "metadata": {},
   "outputs": [
    {
     "data": {
      "text/plain": [
       "9"
      ]
     },
     "execution_count": 12,
     "metadata": {},
     "output_type": "execute_result"
    }
   ],
   "source": [
    "liste[len(liste)-1]"
   ]
  },
  {
   "cell_type": "code",
   "execution_count": 13,
   "id": "72cfe471",
   "metadata": {},
   "outputs": [
    {
     "data": {
      "text/plain": [
       "[7, 8, 9]"
      ]
     },
     "execution_count": 13,
     "metadata": {},
     "output_type": "execute_result"
    }
   ],
   "source": [
    "liste[4:]"
   ]
  },
  {
   "cell_type": "code",
   "execution_count": 14,
   "id": "ba2e2e22",
   "metadata": {},
   "outputs": [
    {
     "data": {
      "text/plain": [
       "[3, 4, 5, 6, 7]"
      ]
     },
     "execution_count": 14,
     "metadata": {},
     "output_type": "execute_result"
    }
   ],
   "source": [
    "liste[:5]"
   ]
  },
  {
   "cell_type": "code",
   "execution_count": 15,
   "id": "075458f3",
   "metadata": {},
   "outputs": [
    {
     "data": {
      "text/plain": [
       "[3, 5, 7, 9]"
      ]
     },
     "execution_count": 15,
     "metadata": {},
     "output_type": "execute_result"
    }
   ],
   "source": [
    "liste[::2]"
   ]
  },
  {
   "cell_type": "code",
   "execution_count": 16,
   "id": "a09e47e0",
   "metadata": {},
   "outputs": [
    {
     "data": {
      "text/plain": [
       "[9, 7, 5, 3]"
      ]
     },
     "execution_count": 16,
     "metadata": {},
     "output_type": "execute_result"
    }
   ],
   "source": [
    "liste[::-2]"
   ]
  },
  {
   "cell_type": "code",
   "execution_count": 32,
   "id": "e1cf9705",
   "metadata": {},
   "outputs": [],
   "source": [
    "liste1 = [1,2,3]\n",
    "liste2 = [4,5,6]\n",
    "liste3 = liste1 + liste2 "
   ]
  },
  {
   "cell_type": "code",
   "execution_count": 18,
   "id": "9f9cb6e1",
   "metadata": {},
   "outputs": [
    {
     "data": {
      "text/plain": [
       "[1, 2, 3, 4, 5, 6]"
      ]
     },
     "execution_count": 18,
     "metadata": {},
     "output_type": "execute_result"
    }
   ],
   "source": [
    "liste3"
   ]
  },
  {
   "cell_type": "code",
   "execution_count": 34,
   "id": "cd089edc",
   "metadata": {},
   "outputs": [
    {
     "data": {
      "text/plain": [
       "[1, 2, 3, 1, 2, 3, 1, 2, 3]"
      ]
     },
     "execution_count": 34,
     "metadata": {},
     "output_type": "execute_result"
    }
   ],
   "source": [
    "liste1 = liste1 * 3\n",
    "liste1"
   ]
  },
  {
   "cell_type": "code",
   "execution_count": 35,
   "id": "3154d61d",
   "metadata": {},
   "outputs": [
    {
     "ename": "TypeError",
     "evalue": "'str' object does not support item assignment",
     "output_type": "error",
     "traceback": [
      "\u001b[1;31m---------------------------------------------------------------------------\u001b[0m",
      "\u001b[1;31mTypeError\u001b[0m                                 Traceback (most recent call last)",
      "\u001b[1;32mC:\\Users\\HASANK~1\\AppData\\Local\\Temp/ipykernel_5744/813681699.py\u001b[0m in \u001b[0;36m<module>\u001b[1;34m\u001b[0m\n\u001b[0;32m      1\u001b[0m \u001b[0ma\u001b[0m \u001b[1;33m=\u001b[0m \u001b[1;34m\"Murat\"\u001b[0m\u001b[1;33m\u001b[0m\u001b[1;33m\u001b[0m\u001b[0m\n\u001b[1;32m----> 2\u001b[1;33m \u001b[0ma\u001b[0m\u001b[1;33m[\u001b[0m\u001b[1;36m1\u001b[0m\u001b[1;33m]\u001b[0m \u001b[1;33m=\u001b[0m \u001b[1;34m\"p\"\u001b[0m\u001b[1;33m\u001b[0m\u001b[1;33m\u001b[0m\u001b[0m\n\u001b[0m",
      "\u001b[1;31mTypeError\u001b[0m: 'str' object does not support item assignment"
     ]
    }
   ],
   "source": [
    "a = \"Murat\"\n",
    "a[1] = \"p\""
   ]
  },
  {
   "cell_type": "code",
   "execution_count": 36,
   "id": "2159225c",
   "metadata": {},
   "outputs": [
    {
     "data": {
      "text/plain": [
       "[4, 5, 6]"
      ]
     },
     "execution_count": 36,
     "metadata": {},
     "output_type": "execute_result"
    }
   ],
   "source": [
    "liste2"
   ]
  },
  {
   "cell_type": "code",
   "execution_count": 37,
   "id": "8ec269ab",
   "metadata": {},
   "outputs": [
    {
     "data": {
      "text/plain": [
       "[4, 10, 6]"
      ]
     },
     "execution_count": 37,
     "metadata": {},
     "output_type": "execute_result"
    }
   ],
   "source": [
    "liste2[1] = 10\n",
    "liste2"
   ]
  },
  {
   "cell_type": "code",
   "execution_count": 38,
   "id": "6bfa380f",
   "metadata": {},
   "outputs": [
    {
     "data": {
      "text/plain": [
       "[1, 2]"
      ]
     },
     "execution_count": 38,
     "metadata": {},
     "output_type": "execute_result"
    }
   ],
   "source": [
    "liste = [1,2,3,4,5,6]\n",
    "liste[:2]"
   ]
  },
  {
   "cell_type": "code",
   "execution_count": 39,
   "id": "c55cf525",
   "metadata": {},
   "outputs": [],
   "source": [
    "liste[:2] = [10,11]"
   ]
  },
  {
   "cell_type": "code",
   "execution_count": 41,
   "id": "58f68df8",
   "metadata": {},
   "outputs": [
    {
     "data": {
      "text/plain": [
       "[10, 11, 3, 4, 5, 6]"
      ]
     },
     "execution_count": 41,
     "metadata": {},
     "output_type": "execute_result"
    }
   ],
   "source": [
    "liste"
   ]
  },
  {
   "cell_type": "code",
   "execution_count": 42,
   "id": "dda9e1c4",
   "metadata": {},
   "outputs": [],
   "source": [
    "liste.append(\"Python\")"
   ]
  },
  {
   "cell_type": "code",
   "execution_count": 43,
   "id": "f98cec7d",
   "metadata": {},
   "outputs": [
    {
     "data": {
      "text/plain": [
       "[10, 11, 3, 4, 5, 6, 'Python']"
      ]
     },
     "execution_count": 43,
     "metadata": {},
     "output_type": "execute_result"
    }
   ],
   "source": [
    "liste"
   ]
  },
  {
   "cell_type": "code",
   "execution_count": 46,
   "id": "3f972f76",
   "metadata": {},
   "outputs": [
    {
     "data": {
      "text/plain": [
       "3"
      ]
     },
     "execution_count": 46,
     "metadata": {},
     "output_type": "execute_result"
    }
   ],
   "source": [
    "liste.pop(2)\n",
    "# eğer boş bırakırsak son elemenı atarız"
   ]
  },
  {
   "cell_type": "code",
   "execution_count": 47,
   "id": "436086d1",
   "metadata": {},
   "outputs": [
    {
     "data": {
      "text/plain": [
       "[10, 11, 4, 5, 6]"
      ]
     },
     "execution_count": 47,
     "metadata": {},
     "output_type": "execute_result"
    }
   ],
   "source": [
    "liste"
   ]
  },
  {
   "cell_type": "code",
   "execution_count": 49,
   "id": "6ab29b1f",
   "metadata": {},
   "outputs": [],
   "source": [
    "liste = [34,1,3,34,3,111]\n",
    "liste.sort()"
   ]
  },
  {
   "cell_type": "code",
   "execution_count": 50,
   "id": "fb9420fa",
   "metadata": {},
   "outputs": [
    {
     "data": {
      "text/plain": [
       "[1, 3, 3, 34, 34, 111]"
      ]
     },
     "execution_count": 50,
     "metadata": {},
     "output_type": "execute_result"
    }
   ],
   "source": [
    "liste"
   ]
  },
  {
   "cell_type": "code",
   "execution_count": 52,
   "id": "230f6dcf",
   "metadata": {},
   "outputs": [],
   "source": [
    "liste.sort(reverse = True)"
   ]
  },
  {
   "cell_type": "code",
   "execution_count": 53,
   "id": "dee0206d",
   "metadata": {},
   "outputs": [
    {
     "data": {
      "text/plain": [
       "[111, 34, 34, 3, 3, 1]"
      ]
     },
     "execution_count": 53,
     "metadata": {},
     "output_type": "execute_result"
    }
   ],
   "source": [
    "liste"
   ]
  },
  {
   "cell_type": "code",
   "execution_count": 54,
   "id": "f276ffb2",
   "metadata": {},
   "outputs": [],
   "source": [
    "liste = [\"php\",\"java\",\"c\"]\n",
    "liste.sort()"
   ]
  },
  {
   "cell_type": "code",
   "execution_count": 55,
   "id": "62bfd7a2",
   "metadata": {},
   "outputs": [
    {
     "data": {
      "text/plain": [
       "['c', 'java', 'php']"
      ]
     },
     "execution_count": 55,
     "metadata": {},
     "output_type": "execute_result"
    }
   ],
   "source": [
    "liste"
   ]
  },
  {
   "cell_type": "code",
   "execution_count": 56,
   "id": "6df18eee",
   "metadata": {},
   "outputs": [],
   "source": [
    "liste.sort(reverse = True)"
   ]
  },
  {
   "cell_type": "code",
   "execution_count": 57,
   "id": "8a9ae9dd",
   "metadata": {},
   "outputs": [
    {
     "data": {
      "text/plain": [
       "['php', 'java', 'c']"
      ]
     },
     "execution_count": 57,
     "metadata": {},
     "output_type": "execute_result"
    }
   ],
   "source": [
    "liste"
   ]
  },
  {
   "cell_type": "code",
   "execution_count": 58,
   "id": "e5121fb0",
   "metadata": {},
   "outputs": [
    {
     "data": {
      "text/plain": [
       "[[1, 2], [3, 4], [5, 6]]"
      ]
     },
     "execution_count": 58,
     "metadata": {},
     "output_type": "execute_result"
    }
   ],
   "source": [
    "liste = [[1,2],[3,4],[5,6]]\n",
    "liste"
   ]
  },
  {
   "cell_type": "code",
   "execution_count": 59,
   "id": "b392e7a4",
   "metadata": {},
   "outputs": [
    {
     "data": {
      "text/plain": [
       "[3, 4]"
      ]
     },
     "execution_count": 59,
     "metadata": {},
     "output_type": "execute_result"
    }
   ],
   "source": [
    "liste[1]"
   ]
  },
  {
   "cell_type": "code",
   "execution_count": 61,
   "id": "e9ecf1cd",
   "metadata": {},
   "outputs": [
    {
     "data": {
      "text/plain": [
       "3"
      ]
     },
     "execution_count": 61,
     "metadata": {},
     "output_type": "execute_result"
    }
   ],
   "source": [
    "liste[1][0]"
   ]
  },
  {
   "cell_type": "code",
   "execution_count": null,
   "id": "ba6ab06e",
   "metadata": {},
   "outputs": [],
   "source": []
  }
 ],
 "metadata": {
  "kernelspec": {
   "display_name": "Python 3 (ipykernel)",
   "language": "python",
   "name": "python3"
  },
  "language_info": {
   "codemirror_mode": {
    "name": "ipython",
    "version": 3
   },
   "file_extension": ".py",
   "mimetype": "text/x-python",
   "name": "python",
   "nbconvert_exporter": "python",
   "pygments_lexer": "ipython3",
   "version": "3.9.9"
  }
 },
 "nbformat": 4,
 "nbformat_minor": 5
}
