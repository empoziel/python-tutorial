{
 "cells": [
  {
   "cell_type": "code",
   "execution_count": 1,
   "id": "e29a6270",
   "metadata": {},
   "outputs": [
    {
     "name": "stdout",
     "output_type": "stream",
     "text": [
      "25\n"
     ]
    },
    {
     "data": {
      "text/plain": [
       "'25'"
      ]
     },
     "execution_count": 1,
     "metadata": {},
     "output_type": "execute_result"
    }
   ],
   "source": [
    "input()"
   ]
  },
  {
   "cell_type": "code",
   "execution_count": 3,
   "id": "eba99620",
   "metadata": {},
   "outputs": [
    {
     "name": "stdout",
     "output_type": "stream",
     "text": [
      "lütfen bir sayı giriniz:25\n"
     ]
    },
    {
     "data": {
      "text/plain": [
       "'25'"
      ]
     },
     "execution_count": 3,
     "metadata": {},
     "output_type": "execute_result"
    }
   ],
   "source": [
    "input(\"lütfen bir sayı giriniz:\")"
   ]
  },
  {
   "cell_type": "code",
   "execution_count": 4,
   "id": "2b782125",
   "metadata": {},
   "outputs": [
    {
     "name": "stdout",
     "output_type": "stream",
     "text": [
      "lütfen bir sayı giriniz:35\n",
      "Kullanıcının girdiği değer 35\n"
     ]
    }
   ],
   "source": [
    "a = input(\"lütfen bir sayı giriniz:\")\n",
    "print(\"Kullanıcının girdiği değer\",a)"
   ]
  },
  {
   "cell_type": "code",
   "execution_count": 5,
   "id": "5da1e0e8",
   "metadata": {},
   "outputs": [
    {
     "name": "stdout",
     "output_type": "stream",
     "text": [
      "lütfen bir sayı giriniz:35\n",
      "353535\n"
     ]
    }
   ],
   "source": [
    "a = input(\"lütfen bir sayı giriniz:\")\n",
    "print (a*3)"
   ]
  },
  {
   "cell_type": "code",
   "execution_count": 6,
   "id": "03193722",
   "metadata": {},
   "outputs": [
    {
     "name": "stdout",
     "output_type": "stream",
     "text": [
      "lütfen bir sayı giriniz:35\n",
      "<class 'str'>\n"
     ]
    }
   ],
   "source": [
    "a = input(\"lütfen bir sayı giriniz:\")\n",
    "print(type(a))"
   ]
  },
  {
   "cell_type": "code",
   "execution_count": 7,
   "id": "a93d5bef",
   "metadata": {},
   "outputs": [
    {
     "name": "stdout",
     "output_type": "stream",
     "text": [
      "lütfen bir sayı giriniz:35\n",
      "105\n"
     ]
    }
   ],
   "source": [
    "a = int(input(\"lütfen bir sayı giriniz:\"))\n",
    "print(a*3)\n"
   ]
  },
  {
   "cell_type": "code",
   "execution_count": 8,
   "id": "934af0fb",
   "metadata": {},
   "outputs": [
    {
     "name": "stdout",
     "output_type": "stream",
     "text": [
      "birinci sayı:11\n",
      "ikinci sayı:22\n",
      "üçüncü sayı:33\n",
      "toplamları 66\n"
     ]
    }
   ],
   "source": [
    "a = int(input(\"birinci sayı:\"))\n",
    "b = int(input(\"ikinci sayı:\"))\n",
    "c = int(input(\"üçüncü sayı:\"))\n",
    "print(\"toplamları\",a+b+c)"
   ]
  },
  {
   "cell_type": "code",
   "execution_count": 9,
   "id": "662a54fa",
   "metadata": {},
   "outputs": [
    {
     "name": "stdout",
     "output_type": "stream",
     "text": [
      "a:4324ddd\n",
      "lütfen inputu doğru formatta giriniz\n"
     ]
    }
   ],
   "source": [
    "try: \n",
    "    a = a = int(input(\"a:\"))\n",
    "    print(a)\n",
    "except ValueError:\n",
    "    print(\"lütfen inputu doğru formatta giriniz\")"
   ]
  },
  {
   "cell_type": "code",
   "execution_count": 12,
   "id": "48b99b00",
   "metadata": {},
   "outputs": [
    {
     "name": "stdout",
     "output_type": "stream",
     "text": [
      "name:hasan\n",
      "Your name hasan\n"
     ]
    }
   ],
   "source": [
    "name = input(\"name:\")\n",
    "print(\"Your name\",name)"
   ]
  },
  {
   "cell_type": "code",
   "execution_count": null,
   "id": "584e8faa",
   "metadata": {},
   "outputs": [],
   "source": []
  }
 ],
 "metadata": {
  "kernelspec": {
   "display_name": "Python 3 (ipykernel)",
   "language": "python",
   "name": "python3"
  },
  "language_info": {
   "codemirror_mode": {
    "name": "ipython",
    "version": 3
   },
   "file_extension": ".py",
   "mimetype": "text/x-python",
   "name": "python",
   "nbconvert_exporter": "python",
   "pygments_lexer": "ipython3",
   "version": "3.9.9"
  }
 },
 "nbformat": 4,
 "nbformat_minor": 5
}
