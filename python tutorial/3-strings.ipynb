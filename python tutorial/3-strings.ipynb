{
 "cells": [
  {
   "cell_type": "code",
   "execution_count": 1,
   "id": "ff7333a2",
   "metadata": {},
   "outputs": [
    {
     "data": {
      "text/plain": [
       "'Hasan'"
      ]
     },
     "execution_count": 1,
     "metadata": {},
     "output_type": "execute_result"
    }
   ],
   "source": [
    "\"Hasan\""
   ]
  },
  {
   "cell_type": "code",
   "execution_count": 2,
   "id": "9bec399a",
   "metadata": {},
   "outputs": [
    {
     "ename": "SyntaxError",
     "evalue": "invalid syntax (Temp/ipykernel_2700/2356216451.py, line 1)",
     "output_type": "error",
     "traceback": [
      "\u001b[1;36m  File \u001b[1;32m\"C:\\Users\\HASANK~1\\AppData\\Local\\Temp/ipykernel_2700/2356216451.py\"\u001b[1;36m, line \u001b[1;32m1\u001b[0m\n\u001b[1;33m    'Hasan' will be full stack'\u001b[0m\n\u001b[1;37m            ^\u001b[0m\n\u001b[1;31mSyntaxError\u001b[0m\u001b[1;31m:\u001b[0m invalid syntax\n"
     ]
    }
   ],
   "source": [
    "'Hasan' will be full stack'"
   ]
  },
  {
   "cell_type": "code",
   "execution_count": 3,
   "id": "a81db9a9",
   "metadata": {},
   "outputs": [
    {
     "data": {
      "text/plain": [
       "\"Hasan' will be full stack\""
      ]
     },
     "execution_count": 3,
     "metadata": {},
     "output_type": "execute_result"
    }
   ],
   "source": [
    "'Hasan\\' will be full stack'\n"
   ]
  },
  {
   "cell_type": "code",
   "execution_count": 4,
   "id": "e93fd47f",
   "metadata": {},
   "outputs": [
    {
     "data": {
      "text/plain": [
       "'Hasan'"
      ]
     },
     "execution_count": 4,
     "metadata": {},
     "output_type": "execute_result"
    }
   ],
   "source": [
    "a = \"Hasan\"\n",
    "a\n"
   ]
  },
  {
   "cell_type": "code",
   "execution_count": 7,
   "id": "af4f7bf6",
   "metadata": {},
   "outputs": [],
   "source": [
    "#indeks start from 0 // last one start -1\n",
    "a = \"Hello\""
   ]
  },
  {
   "cell_type": "code",
   "execution_count": 8,
   "id": "45838ac2",
   "metadata": {},
   "outputs": [
    {
     "data": {
      "text/plain": [
       "'l'"
      ]
     },
     "execution_count": 8,
     "metadata": {},
     "output_type": "execute_result"
    }
   ],
   "source": [
    "a[3]"
   ]
  },
  {
   "cell_type": "code",
   "execution_count": 10,
   "id": "2d839ba7",
   "metadata": {},
   "outputs": [
    {
     "data": {
      "text/plain": [
       "'o'"
      ]
     },
     "execution_count": 10,
     "metadata": {},
     "output_type": "execute_result"
    }
   ],
   "source": [
    "a[4]"
   ]
  },
  {
   "cell_type": "code",
   "execution_count": 11,
   "id": "cf7c77c5",
   "metadata": {},
   "outputs": [
    {
     "data": {
      "text/plain": [
       "'B'"
      ]
     },
     "execution_count": 11,
     "metadata": {},
     "output_type": "execute_result"
    }
   ],
   "source": [
    "a = \"Bye\"\n",
    "a[-3]"
   ]
  },
  {
   "cell_type": "code",
   "execution_count": 12,
   "id": "527cbc67",
   "metadata": {},
   "outputs": [],
   "source": [
    "# string parçalama  [başalama indeksi : bitiş indeksi : atlama değeri]\n",
    "a = \"Python Programming Language\""
   ]
  },
  {
   "cell_type": "code",
   "execution_count": 13,
   "id": "b35bce09",
   "metadata": {},
   "outputs": [
    {
     "data": {
      "text/plain": [
       "'on Pro'"
      ]
     },
     "execution_count": 13,
     "metadata": {},
     "output_type": "execute_result"
    }
   ],
   "source": [
    "a[4:10]"
   ]
  },
  {
   "cell_type": "code",
   "execution_count": 14,
   "id": "ba68c8c2",
   "metadata": {},
   "outputs": [
    {
     "data": {
      "text/plain": [
       "'Python Prog'"
      ]
     },
     "execution_count": 14,
     "metadata": {},
     "output_type": "execute_result"
    }
   ],
   "source": [
    "a[:11]"
   ]
  },
  {
   "cell_type": "code",
   "execution_count": 15,
   "id": "22709bfb",
   "metadata": {},
   "outputs": [
    {
     "data": {
      "text/plain": [
       "'mming Language'"
      ]
     },
     "execution_count": 15,
     "metadata": {},
     "output_type": "execute_result"
    }
   ],
   "source": [
    "a[13:]"
   ]
  },
  {
   "cell_type": "code",
   "execution_count": 16,
   "id": "e8dd7bd1",
   "metadata": {},
   "outputs": [
    {
     "data": {
      "text/plain": [
       "'Python Programming Language'"
      ]
     },
     "execution_count": 16,
     "metadata": {},
     "output_type": "execute_result"
    }
   ],
   "source": [
    "a[:]"
   ]
  },
  {
   "cell_type": "code",
   "execution_count": 17,
   "id": "15ba8b8e",
   "metadata": {},
   "outputs": [
    {
     "data": {
      "text/plain": [
       "'Python Programming Languag'"
      ]
     },
     "execution_count": 17,
     "metadata": {},
     "output_type": "execute_result"
    }
   ],
   "source": [
    "a[:-1]"
   ]
  },
  {
   "cell_type": "code",
   "execution_count": 18,
   "id": "874e45c1",
   "metadata": {},
   "outputs": [
    {
     "data": {
      "text/plain": [
       "'e'"
      ]
     },
     "execution_count": 18,
     "metadata": {},
     "output_type": "execute_result"
    }
   ],
   "source": [
    "a[-1:]"
   ]
  },
  {
   "cell_type": "code",
   "execution_count": 19,
   "id": "1660a766",
   "metadata": {},
   "outputs": [
    {
     "data": {
      "text/plain": [
       "'Pto rgamn agae'"
      ]
     },
     "execution_count": 19,
     "metadata": {},
     "output_type": "execute_result"
    }
   ],
   "source": [
    "a[::2]\n",
    "# 2li olarak atlayarak alıyor // - ile yaparsak tersten alır"
   ]
  },
  {
   "cell_type": "code",
   "execution_count": 20,
   "id": "537316e1",
   "metadata": {},
   "outputs": [
    {
     "data": {
      "text/plain": [
       "'oPg'"
      ]
     },
     "execution_count": 20,
     "metadata": {},
     "output_type": "execute_result"
    }
   ],
   "source": [
    "a[4:12:3]"
   ]
  },
  {
   "cell_type": "code",
   "execution_count": 21,
   "id": "a001d43f",
   "metadata": {},
   "outputs": [
    {
     "data": {
      "text/plain": [
       "'egaugnaL gnimmargorP nohtyP'"
      ]
     },
     "execution_count": 21,
     "metadata": {},
     "output_type": "execute_result"
    }
   ],
   "source": [
    "a[::-1]"
   ]
  },
  {
   "cell_type": "code",
   "execution_count": 22,
   "id": "788c396b",
   "metadata": {},
   "outputs": [
    {
     "data": {
      "text/plain": [
       "'euagmrrnt'"
      ]
     },
     "execution_count": 22,
     "metadata": {},
     "output_type": "execute_result"
    }
   ],
   "source": [
    " a[::-3]"
   ]
  },
  {
   "cell_type": "code",
   "execution_count": 23,
   "id": "6dba5ac4",
   "metadata": {},
   "outputs": [],
   "source": [
    "string = \"Merhaba\""
   ]
  },
  {
   "cell_type": "code",
   "execution_count": 24,
   "id": "44a8d522",
   "metadata": {},
   "outputs": [
    {
     "data": {
      "text/plain": [
       "7"
      ]
     },
     "execution_count": 24,
     "metadata": {},
     "output_type": "execute_result"
    }
   ],
   "source": [
    "len(string)"
   ]
  },
  {
   "cell_type": "code",
   "execution_count": 25,
   "id": "e08537b8",
   "metadata": {},
   "outputs": [
    {
     "ename": "TypeError",
     "evalue": "'str' object does not support item assignment",
     "output_type": "error",
     "traceback": [
      "\u001b[1;31m---------------------------------------------------------------------------\u001b[0m",
      "\u001b[1;31mTypeError\u001b[0m                                 Traceback (most recent call last)",
      "\u001b[1;32mC:\\Users\\HASANK~1\\AppData\\Local\\Temp/ipykernel_2700/3803427728.py\u001b[0m in \u001b[0;36m<module>\u001b[1;34m\u001b[0m\n\u001b[1;32m----> 1\u001b[1;33m \u001b[0mstring\u001b[0m\u001b[1;33m[\u001b[0m\u001b[1;36m3\u001b[0m\u001b[1;33m]\u001b[0m \u001b[1;33m=\u001b[0m \u001b[1;34m\"k\"\u001b[0m\u001b[1;33m\u001b[0m\u001b[1;33m\u001b[0m\u001b[0m\n\u001b[0m",
      "\u001b[1;31mTypeError\u001b[0m: 'str' object does not support item assignment"
     ]
    }
   ],
   "source": [
    "string[3] = \"k\""
   ]
  },
  {
   "cell_type": "code",
   "execution_count": 26,
   "id": "7d536630",
   "metadata": {},
   "outputs": [
    {
     "data": {
      "text/plain": [
       "'PythonProgrammingLanguage'"
      ]
     },
     "execution_count": 26,
     "metadata": {},
     "output_type": "execute_result"
    }
   ],
   "source": [
    "a = \"Python\"\n",
    "b = \"Programming\"\n",
    "c = \"Language\"\n",
    "a+b+c"
   ]
  },
  {
   "cell_type": "code",
   "execution_count": 27,
   "id": "d0334f34",
   "metadata": {},
   "outputs": [
    {
     "data": {
      "text/plain": [
       "'PythonProgrammingLanguage'"
      ]
     },
     "execution_count": 27,
     "metadata": {},
     "output_type": "execute_result"
    }
   ],
   "source": [
    " a + b + c "
   ]
  },
  {
   "cell_type": "code",
   "execution_count": 29,
   "id": "6d77ab9e",
   "metadata": {},
   "outputs": [
    {
     "data": {
      "text/plain": [
       "'PythonPythonPython'"
      ]
     },
     "execution_count": 29,
     "metadata": {},
     "output_type": "execute_result"
    }
   ],
   "source": [
    "a * 3"
   ]
  },
  {
   "cell_type": "code",
   "execution_count": 32,
   "id": "c2ef784c",
   "metadata": {},
   "outputs": [],
   "source": [
    "a = \"Hasan\"\n",
    "a = a+ \" Hüseyin Kaplan\""
   ]
  },
  {
   "cell_type": "code",
   "execution_count": 33,
   "id": "1d9d166f",
   "metadata": {},
   "outputs": [
    {
     "data": {
      "text/plain": [
       "'Hasan Hüseyin Kaplan'"
      ]
     },
     "execution_count": 33,
     "metadata": {},
     "output_type": "execute_result"
    }
   ],
   "source": [
    "a"
   ]
  },
  {
   "cell_type": "code",
   "execution_count": null,
   "id": "43691a5a",
   "metadata": {},
   "outputs": [],
   "source": []
  }
 ],
 "metadata": {
  "kernelspec": {
   "display_name": "Python 3 (ipykernel)",
   "language": "python",
   "name": "python3"
  },
  "language_info": {
   "codemirror_mode": {
    "name": "ipython",
    "version": 3
   },
   "file_extension": ".py",
   "mimetype": "text/x-python",
   "name": "python",
   "nbconvert_exporter": "python",
   "pygments_lexer": "ipython3",
   "version": "3.9.8"
  }
 },
 "nbformat": 4,
 "nbformat_minor": 5
}
