{
 "cells": [
  {
   "cell_type": "code",
   "execution_count": 1,
   "id": "c340c518",
   "metadata": {},
   "outputs": [
    {
     "name": "stdout",
     "output_type": "stream",
     "text": [
      "35\n"
     ]
    }
   ],
   "source": [
    "print(35)"
   ]
  },
  {
   "cell_type": "code",
   "execution_count": 2,
   "id": "ce3551a8",
   "metadata": {},
   "outputs": [
    {
     "name": "stdout",
     "output_type": "stream",
     "text": [
      "3.14\n"
     ]
    }
   ],
   "source": [
    "print(3.14)"
   ]
  },
  {
   "cell_type": "code",
   "execution_count": 3,
   "id": "9864baee",
   "metadata": {},
   "outputs": [
    {
     "name": "stdout",
     "output_type": "stream",
     "text": [
      "Hasan\n"
     ]
    }
   ],
   "source": [
    "print(\"Hasan\")"
   ]
  },
  {
   "cell_type": "code",
   "execution_count": 4,
   "id": "aba56f64",
   "metadata": {},
   "outputs": [
    {
     "name": "stdout",
     "output_type": "stream",
     "text": [
      "19\n"
     ]
    }
   ],
   "source": [
    "a = 4\n",
    "b = 15\n",
    "print (a+b)"
   ]
  },
  {
   "cell_type": "code",
   "execution_count": 6,
   "id": "b4ebad32",
   "metadata": {},
   "outputs": [
    {
     "name": "stdout",
     "output_type": "stream",
     "text": [
      "35 4.54 Hello Welcome\n"
     ]
    }
   ],
   "source": [
    "print(35,4.54,\"Hello\",\"Welcome\")"
   ]
  },
  {
   "cell_type": "code",
   "execution_count": 7,
   "id": "714652c8",
   "metadata": {},
   "outputs": [
    {
     "name": "stdout",
     "output_type": "stream",
     "text": [
      "Full\n",
      "Stack\n",
      "Developer\n"
     ]
    }
   ],
   "source": [
    " print(\"Full\\nStack\\nDeveloper\")"
   ]
  },
  {
   "cell_type": "code",
   "execution_count": 15,
   "id": "19ecb8ab",
   "metadata": {},
   "outputs": [
    {
     "name": "stdout",
     "output_type": "stream",
     "text": [
      "January\tFebruary\tMarch\n"
     ]
    }
   ],
   "source": [
    "print(\"January\\tFebruary\\tMarch\")"
   ]
  },
  {
   "cell_type": "code",
   "execution_count": 16,
   "id": "80217eca",
   "metadata": {},
   "outputs": [
    {
     "data": {
      "text/plain": [
       "int"
      ]
     },
     "execution_count": 16,
     "metadata": {},
     "output_type": "execute_result"
    }
   ],
   "source": [
    "type(12)"
   ]
  },
  {
   "cell_type": "code",
   "execution_count": 17,
   "id": "062b44bc",
   "metadata": {},
   "outputs": [
    {
     "data": {
      "text/plain": [
       "str"
      ]
     },
     "execution_count": 17,
     "metadata": {},
     "output_type": "execute_result"
    }
   ],
   "source": [
    "type(\"asd\")"
   ]
  },
  {
   "cell_type": "code",
   "execution_count": 18,
   "id": "aff59011",
   "metadata": {},
   "outputs": [
    {
     "data": {
      "text/plain": [
       "float"
      ]
     },
     "execution_count": 18,
     "metadata": {},
     "output_type": "execute_result"
    }
   ],
   "source": [
    "type(3.14)"
   ]
  },
  {
   "cell_type": "code",
   "execution_count": 19,
   "id": "696b85a5",
   "metadata": {},
   "outputs": [
    {
     "name": "stdout",
     "output_type": "stream",
     "text": [
      "23/24/234/54\n"
     ]
    }
   ],
   "source": [
    "print(23,24,234,54,sep = \"/\")"
   ]
  },
  {
   "cell_type": "code",
   "execution_count": 20,
   "id": "6e0eba8b",
   "metadata": {},
   "outputs": [
    {
     "name": "stdout",
     "output_type": "stream",
     "text": [
      "Hasan\n",
      "Kaplan\n"
     ]
    }
   ],
   "source": [
    "print(\"Hasan\",\"Kaplan\",sep = \"\\n\")"
   ]
  },
  {
   "cell_type": "code",
   "execution_count": 21,
   "id": "5457bc92",
   "metadata": {},
   "outputs": [
    {
     "name": "stdout",
     "output_type": "stream",
     "text": [
      "P y t h o n\n"
     ]
    }
   ],
   "source": [
    "print(*\"Python\")"
   ]
  },
  {
   "cell_type": "code",
   "execution_count": 23,
   "id": "5c6e8fa8",
   "metadata": {},
   "outputs": [
    {
     "name": "stdout",
     "output_type": "stream",
     "text": [
      "P/y/t/h/o/n\n"
     ]
    }
   ],
   "source": [
    "print(*\"Python\",sep = \"/\")"
   ]
  },
  {
   "cell_type": "code",
   "execution_count": 24,
   "id": "2e5746c2",
   "metadata": {},
   "outputs": [],
   "source": [
    "# https://pyformat.info/"
   ]
  },
  {
   "cell_type": "code",
   "execution_count": 26,
   "id": "3ec95286",
   "metadata": {},
   "outputs": [
    {
     "data": {
      "text/plain": [
       "'Hasan Kaplan 24'"
      ]
     },
     "execution_count": 26,
     "metadata": {},
     "output_type": "execute_result"
    }
   ],
   "source": [
    "# format fonksiyonu önceden tanımlı değerleri yerleştirme için kullanılır çok farklı çeşitleri vardır .\n",
    "\"{1} {0} {2}\".format(\"Kaplan\",\"Hasan\",24)"
   ]
  },
  {
   "cell_type": "code",
   "execution_count": null,
   "id": "32361133",
   "metadata": {},
   "outputs": [],
   "source": []
  }
 ],
 "metadata": {
  "kernelspec": {
   "display_name": "Python 3 (ipykernel)",
   "language": "python",
   "name": "python3"
  },
  "language_info": {
   "codemirror_mode": {
    "name": "ipython",
    "version": 3
   },
   "file_extension": ".py",
   "mimetype": "text/x-python",
   "name": "python",
   "nbconvert_exporter": "python",
   "pygments_lexer": "ipython3",
   "version": "3.9.8"
  }
 },
 "nbformat": 4,
 "nbformat_minor": 5
}
