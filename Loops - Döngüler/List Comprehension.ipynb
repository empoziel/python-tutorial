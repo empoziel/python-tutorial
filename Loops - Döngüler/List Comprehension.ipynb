{
 "cells": [
  {
   "cell_type": "code",
   "execution_count": 1,
   "id": "a80ddfe4",
   "metadata": {},
   "outputs": [
    {
     "name": "stdout",
     "output_type": "stream",
     "text": [
      "[1]\n",
      "[1, 2]\n",
      "[1, 2, 3]\n",
      "[1, 2, 3, 4]\n",
      "[1, 2, 3, 4, 5]\n"
     ]
    }
   ],
   "source": [
    "liste1 = [1,2,3,4,5]\n",
    "liste2 = list()\n",
    "\n",
    "for i in liste1:\n",
    "    liste2.append(i)\n",
    "    print(liste2)"
   ]
  },
  {
   "cell_type": "code",
   "execution_count": 2,
   "id": "0e0f7a75",
   "metadata": {},
   "outputs": [
    {
     "name": "stdout",
     "output_type": "stream",
     "text": [
      "[1, 2, 3, 4, 5]\n"
     ]
    }
   ],
   "source": [
    "liste3 = [1,2,3,4,5]\n",
    "\n",
    "liste4 = [i for i in liste3]\n",
    "print(liste4)"
   ]
  },
  {
   "cell_type": "code",
   "execution_count": 4,
   "id": "46cd90ce",
   "metadata": {},
   "outputs": [
    {
     "name": "stdout",
     "output_type": "stream",
     "text": [
      "[6, 8, 10]\n"
     ]
    }
   ],
   "source": [
    "liste = [3,4,5]\n",
    "\n",
    "liste1=[ i * 2 for i in liste ]\n",
    "print(liste1)"
   ]
  },
  {
   "cell_type": "code",
   "execution_count": 9,
   "id": "01fc6e2d",
   "metadata": {},
   "outputs": [
    {
     "data": {
      "text/plain": [
       "[2, 12, 30]"
      ]
     },
     "execution_count": 9,
     "metadata": {},
     "output_type": "execute_result"
    }
   ],
   "source": [
    "liste = [(1,2),(3,4),(5,6)]\n",
    "\n",
    "liste1 = [i*j for i,j in liste]\n",
    "liste1"
   ]
  },
  {
   "cell_type": "code",
   "execution_count": 10,
   "id": "b90ad5d3",
   "metadata": {},
   "outputs": [],
   "source": [
    "s = \"Python\"\n",
    "\n",
    "liste1 = [i*3 for i in s]"
   ]
  },
  {
   "cell_type": "code",
   "execution_count": 11,
   "id": "61cc9949",
   "metadata": {},
   "outputs": [
    {
     "data": {
      "text/plain": [
       "['PPP', 'yyy', 'ttt', 'hhh', 'ooo', 'nnn']"
      ]
     },
     "execution_count": 11,
     "metadata": {},
     "output_type": "execute_result"
    }
   ],
   "source": [
    "liste1"
   ]
  },
  {
   "cell_type": "code",
   "execution_count": 12,
   "id": "dfc4c417",
   "metadata": {},
   "outputs": [
    {
     "name": "stdout",
     "output_type": "stream",
     "text": [
      "[1, 2, 3, 4, 5, 6, 7, 8, 9, 10, 11, 12, 13, 14, 15]\n"
     ]
    }
   ],
   "source": [
    "liste = [[1,2,3],[4,5,6,7,8],[9,10,11,12,13,14,15]]\n",
    "liste1 = list()\n",
    "\n",
    "for i in liste:\n",
    "    for x in i:\n",
    "        liste1.append(x)\n",
    "        \n",
    "print(liste1)"
   ]
  },
  {
   "cell_type": "code",
   "execution_count": 13,
   "id": "27a9bc84",
   "metadata": {},
   "outputs": [
    {
     "name": "stdout",
     "output_type": "stream",
     "text": [
      "[1, 2, 3, 4, 5, 6, 7, 8, 9, 10, 11, 12, 13, 14, 15]\n"
     ]
    }
   ],
   "source": [
    "liste = [[1,2,3],[4,5,6,7,8],[9,10,11,12,13,14,15]]\n",
    "liste1 = [x for i in liste for x in i ]\n",
    "print(liste1)"
   ]
  },
  {
   "cell_type": "code",
   "execution_count": null,
   "id": "084b8c90",
   "metadata": {},
   "outputs": [],
   "source": []
  }
 ],
 "metadata": {
  "kernelspec": {
   "display_name": "Python 3 (ipykernel)",
   "language": "python",
   "name": "python3"
  },
  "language_info": {
   "codemirror_mode": {
    "name": "ipython",
    "version": 3
   },
   "file_extension": ".py",
   "mimetype": "text/x-python",
   "name": "python",
   "nbconvert_exporter": "python",
   "pygments_lexer": "ipython3",
   "version": "3.9.9"
  }
 },
 "nbformat": 4,
 "nbformat_minor": 5
}
