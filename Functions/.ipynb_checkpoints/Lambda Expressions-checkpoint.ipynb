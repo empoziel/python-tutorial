{
 "cells": [
  {
   "cell_type": "code",
   "execution_count": 3,
   "id": "be626ec8",
   "metadata": {},
   "outputs": [],
   "source": [
    "liste1 = [1,2,3,4,5]\n",
    "\n",
    "liste2 = [i*2 for i in liste1]"
   ]
  },
  {
   "cell_type": "code",
   "execution_count": 4,
   "id": "d2905df9",
   "metadata": {},
   "outputs": [
    {
     "data": {
      "text/plain": [
       "[2, 4, 6, 8, 10]"
      ]
     },
     "execution_count": 4,
     "metadata": {},
     "output_type": "execute_result"
    }
   ],
   "source": [
    "liste2"
   ]
  },
  {
   "cell_type": "code",
   "execution_count": 5,
   "id": "0be7302d",
   "metadata": {},
   "outputs": [
    {
     "name": "stdout",
     "output_type": "stream",
     "text": [
      "6\n"
     ]
    }
   ],
   "source": [
    "def ikiyleçarp(x):\n",
    "    return x*2\n",
    "print(ikiyleçarp(3))"
   ]
  },
  {
   "cell_type": "code",
   "execution_count": 11,
   "id": "8b49a9a6",
   "metadata": {},
   "outputs": [],
   "source": [
    "ikiyleçarp2 = lambda x: x*2"
   ]
  },
  {
   "cell_type": "code",
   "execution_count": 13,
   "id": "69e57283",
   "metadata": {},
   "outputs": [
    {
     "name": "stdout",
     "output_type": "stream",
     "text": [
      "8\n"
     ]
    }
   ],
   "source": [
    "print(ikiyleçarp2(4))"
   ]
  },
  {
   "cell_type": "code",
   "execution_count": 14,
   "id": "f9da5b15",
   "metadata": {},
   "outputs": [
    {
     "name": "stdout",
     "output_type": "stream",
     "text": [
      "33\n"
     ]
    }
   ],
   "source": [
    "def toplama(x,y,z):\n",
    "    return x+y+z\n",
    "print(toplama(10,11,12))"
   ]
  },
  {
   "cell_type": "code",
   "execution_count": 15,
   "id": "30d7844a",
   "metadata": {},
   "outputs": [],
   "source": [
    "toplama = lambda x,y,z : x+y+z"
   ]
  },
  {
   "cell_type": "code",
   "execution_count": 16,
   "id": "68b43e67",
   "metadata": {},
   "outputs": [
    {
     "name": "stdout",
     "output_type": "stream",
     "text": [
      "12\n"
     ]
    }
   ],
   "source": [
    "print(toplama(3,4,5))"
   ]
  },
  {
   "cell_type": "code",
   "execution_count": 17,
   "id": "e4da10d2",
   "metadata": {},
   "outputs": [
    {
     "name": "stdout",
     "output_type": "stream",
     "text": [
      "nalpaK nasaH\n"
     ]
    }
   ],
   "source": [
    "def terscevir(s):\n",
    "    return s[::-1]\n",
    "print(terscevir(\"Hasan Kaplan\"))"
   ]
  },
  {
   "cell_type": "code",
   "execution_count": 18,
   "id": "2c9adf6f",
   "metadata": {},
   "outputs": [
    {
     "name": "stdout",
     "output_type": "stream",
     "text": [
      "nasaH nalpaK\n"
     ]
    }
   ],
   "source": [
    "ters = lambda s : s[::-1]\n",
    "print(ters(\"Kaplan Hasan\"))"
   ]
  },
  {
   "cell_type": "code",
   "execution_count": 19,
   "id": "508b83ae",
   "metadata": {},
   "outputs": [],
   "source": [
    "def çifttek(sayı):\n",
    "    return sayı % 2 == 0\n"
   ]
  },
  {
   "cell_type": "code",
   "execution_count": 20,
   "id": "a70864a6",
   "metadata": {},
   "outputs": [
    {
     "name": "stdout",
     "output_type": "stream",
     "text": [
      "True\n"
     ]
    }
   ],
   "source": [
    "print(çifttek(34))"
   ]
  },
  {
   "cell_type": "code",
   "execution_count": 22,
   "id": "94bb4b03",
   "metadata": {},
   "outputs": [],
   "source": [
    "çifttek = lambda sayı : sayı %2 == 0"
   ]
  },
  {
   "cell_type": "code",
   "execution_count": 23,
   "id": "6ceb24de",
   "metadata": {},
   "outputs": [
    {
     "name": "stdout",
     "output_type": "stream",
     "text": [
      "False\n"
     ]
    }
   ],
   "source": [
    "print(çifttek(123))"
   ]
  },
  {
   "cell_type": "code",
   "execution_count": null,
   "id": "ad834e3d",
   "metadata": {},
   "outputs": [],
   "source": []
  }
 ],
 "metadata": {
  "kernelspec": {
   "display_name": "Python 3 (ipykernel)",
   "language": "python",
   "name": "python3"
  },
  "language_info": {
   "codemirror_mode": {
    "name": "ipython",
    "version": 3
   },
   "file_extension": ".py",
   "mimetype": "text/x-python",
   "name": "python",
   "nbconvert_exporter": "python",
   "pygments_lexer": "ipython3",
   "version": "3.9.9"
  }
 },
 "nbformat": 4,
 "nbformat_minor": 5
}
