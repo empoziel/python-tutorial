{
 "cells": [
  {
   "cell_type": "code",
   "execution_count": 1,
   "id": "a7c391c0",
   "metadata": {},
   "outputs": [],
   "source": [
    "def bilgi(ad,soyad,numara):\n",
    "    print(\"ad:\",ad,\"soyad:\",soyad,\"numara:\",numara)\n",
    "    "
   ]
  },
  {
   "cell_type": "code",
   "execution_count": 3,
   "id": "d6df961b",
   "metadata": {},
   "outputs": [
    {
     "name": "stdout",
     "output_type": "stream",
     "text": [
      "ad: hasan soyad: kaplan numara: 12345\n"
     ]
    }
   ],
   "source": [
    "bilgi(\"hasan\",\"kaplan\",\"12345\")"
   ]
  },
  {
   "cell_type": "code",
   "execution_count": 4,
   "id": "a2d575e7",
   "metadata": {},
   "outputs": [],
   "source": [
    "def bilgi(ad = \"Bilgi yok\",soyad = \"Bilgi yok\", numara = \"Bilgi yok\"):\n",
    "    print(\"ad:\",ad,\"soyad:\",soyad,\"numara:\",numara)"
   ]
  },
  {
   "cell_type": "code",
   "execution_count": 6,
   "id": "6f696cb9",
   "metadata": {},
   "outputs": [
    {
     "name": "stdout",
     "output_type": "stream",
     "text": [
      "ad: Bilgi yok soyad: Bilgi yok numara: Bilgi yok\n"
     ]
    }
   ],
   "source": [
    "bilgi()"
   ]
  },
  {
   "cell_type": "code",
   "execution_count": 7,
   "id": "f63b5d05",
   "metadata": {},
   "outputs": [],
   "source": [
    "# bilgi girerken sıralama önemli yukarda örnekte sadece numara vermek istersek bilgi(numara = 123124) şeklinde girilir."
   ]
  },
  {
   "cell_type": "code",
   "execution_count": 8,
   "id": "f9a15818",
   "metadata": {},
   "outputs": [],
   "source": [
    "def toplama(*a):\n",
    "    print (a)"
   ]
  },
  {
   "cell_type": "code",
   "execution_count": 9,
   "id": "4d8d5b33",
   "metadata": {},
   "outputs": [
    {
     "name": "stdout",
     "output_type": "stream",
     "text": [
      "(3, 4, 5, 6, 7)\n"
     ]
    }
   ],
   "source": [
    "toplama(3,4,5,6,7)"
   ]
  },
  {
   "cell_type": "code",
   "execution_count": 10,
   "id": "2ac52ed6",
   "metadata": {},
   "outputs": [],
   "source": [
    "def toplama(*a):\n",
    "    toplam = 0\n",
    "    for i in a:\n",
    "        toplam += i\n",
    "    print(toplam)"
   ]
  },
  {
   "cell_type": "code",
   "execution_count": 13,
   "id": "348e02f2",
   "metadata": {},
   "outputs": [
    {
     "name": "stdout",
     "output_type": "stream",
     "text": [
      "95\n"
     ]
    }
   ],
   "source": [
    "toplama(1,2,3,5,5,7,8,8,8,2,3,43)"
   ]
  },
  {
   "cell_type": "code",
   "execution_count": null,
   "id": "bec9c3de",
   "metadata": {},
   "outputs": [],
   "source": []
  }
 ],
 "metadata": {
  "kernelspec": {
   "display_name": "Python 3 (ipykernel)",
   "language": "python",
   "name": "python3"
  },
  "language_info": {
   "codemirror_mode": {
    "name": "ipython",
    "version": 3
   },
   "file_extension": ".py",
   "mimetype": "text/x-python",
   "name": "python",
   "nbconvert_exporter": "python",
   "pygments_lexer": "ipython3",
   "version": "3.9.9"
  }
 },
 "nbformat": 4,
 "nbformat_minor": 5
}
