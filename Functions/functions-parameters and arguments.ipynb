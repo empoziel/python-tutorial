{
 "cells": [
  {
   "cell_type": "code",
   "execution_count": 1,
   "id": "dc1f24cc",
   "metadata": {},
   "outputs": [
    {
     "ename": "NameError",
     "evalue": "name 'selamla' is not defined",
     "output_type": "error",
     "traceback": [
      "\u001b[1;31m---------------------------------------------------------------------------\u001b[0m",
      "\u001b[1;31mNameError\u001b[0m                                 Traceback (most recent call last)",
      "\u001b[1;32mC:\\Users\\HASANK~1\\AppData\\Local\\Temp/ipykernel_8484/3555920602.py\u001b[0m in \u001b[0;36m<module>\u001b[1;34m\u001b[0m\n\u001b[1;32m----> 1\u001b[1;33m \u001b[0mtype\u001b[0m\u001b[1;33m(\u001b[0m\u001b[0mselamla\u001b[0m\u001b[1;33m)\u001b[0m\u001b[1;33m\u001b[0m\u001b[1;33m\u001b[0m\u001b[0m\n\u001b[0m",
      "\u001b[1;31mNameError\u001b[0m: name 'selamla' is not defined"
     ]
    }
   ],
   "source": [
    "type(selamla)"
   ]
  },
  {
   "cell_type": "code",
   "execution_count": 2,
   "id": "929ac348",
   "metadata": {},
   "outputs": [],
   "source": [
    "def selamla():\n",
    "    print(\"Hello...\")\n",
    "    print(\"How are you?\")\n",
    "    "
   ]
  },
  {
   "cell_type": "code",
   "execution_count": 3,
   "id": "2e43bf80",
   "metadata": {},
   "outputs": [
    {
     "data": {
      "text/plain": [
       "function"
      ]
     },
     "execution_count": 3,
     "metadata": {},
     "output_type": "execute_result"
    }
   ],
   "source": [
    "type(selamla)"
   ]
  },
  {
   "cell_type": "code",
   "execution_count": 5,
   "id": "77d3cee3",
   "metadata": {},
   "outputs": [
    {
     "name": "stdout",
     "output_type": "stream",
     "text": [
      "Hello...\n",
      "How are you?\n"
     ]
    }
   ],
   "source": [
    "selamla()"
   ]
  },
  {
   "cell_type": "code",
   "execution_count": 6,
   "id": "0bd3e637",
   "metadata": {},
   "outputs": [
    {
     "name": "stdout",
     "output_type": "stream",
     "text": [
      "Hello...\n",
      "How are you?\n",
      "Hello...\n",
      "How are you?\n"
     ]
    }
   ],
   "source": [
    "selamla()\n",
    "selamla()"
   ]
  },
  {
   "cell_type": "code",
   "execution_count": 9,
   "id": "01901abd",
   "metadata": {},
   "outputs": [],
   "source": [
    "def selamla(isim):\n",
    "    print(\"Hello:\",isim)"
   ]
  },
  {
   "cell_type": "code",
   "execution_count": 10,
   "id": "590e27ba",
   "metadata": {},
   "outputs": [
    {
     "name": "stdout",
     "output_type": "stream",
     "text": [
      "Hello: Hasan\n"
     ]
    }
   ],
   "source": [
    "selamla(\"Hasan\")"
   ]
  },
  {
   "cell_type": "code",
   "execution_count": 23,
   "id": "a4b900b6",
   "metadata": {},
   "outputs": [],
   "source": [
    "def toplama(a,b,c):\n",
    "    print(\"Toplamları:\",a+b+c)"
   ]
  },
  {
   "cell_type": "code",
   "execution_count": 24,
   "id": "b729841f",
   "metadata": {},
   "outputs": [
    {
     "name": "stdout",
     "output_type": "stream",
     "text": [
      "Toplamları: 12\n"
     ]
    }
   ],
   "source": [
    "toplama(3,4,5)"
   ]
  },
  {
   "cell_type": "code",
   "execution_count": 21,
   "id": "8f78bc4b",
   "metadata": {},
   "outputs": [],
   "source": [
    "def faktoriyel(sayı):\n",
    "    faktoriyel = 1\n",
    "    if(sayı == 0 or sayı == 1):\n",
    "        print(\"faktoriyel\",faktoriyel)\n",
    "    else:\n",
    "        while(sayı >= 1):\n",
    "            faktoriyel *= sayı\n",
    "            sayı -= 1\n",
    "        print(\"faktoriyel\",faktoriyel)"
   ]
  },
  {
   "cell_type": "code",
   "execution_count": 22,
   "id": "ad45b4fd",
   "metadata": {},
   "outputs": [
    {
     "name": "stdout",
     "output_type": "stream",
     "text": [
      "faktoriyel 39916800\n"
     ]
    }
   ],
   "source": [
    "faktoriyel(11)"
   ]
  },
  {
   "cell_type": "code",
   "execution_count": null,
   "id": "0a79eb90",
   "metadata": {},
   "outputs": [],
   "source": []
  }
 ],
 "metadata": {
  "kernelspec": {
   "display_name": "Python 3 (ipykernel)",
   "language": "python",
   "name": "python3"
  },
  "language_info": {
   "codemirror_mode": {
    "name": "ipython",
    "version": 3
   },
   "file_extension": ".py",
   "mimetype": "text/x-python",
   "name": "python",
   "nbconvert_exporter": "python",
   "pygments_lexer": "ipython3",
   "version": "3.9.9"
  }
 },
 "nbformat": 4,
 "nbformat_minor": 5
}
