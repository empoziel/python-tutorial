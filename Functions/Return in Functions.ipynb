{
 "cells": [
  {
   "cell_type": "code",
   "execution_count": 3,
   "id": "ef2e1b85",
   "metadata": {},
   "outputs": [],
   "source": [
    "def toplama (a,b,c):\n",
    "    print(\"toplamları\",a+b+c)\n",
    "def ikiyleçarp(a):\n",
    "    print(\"ikiyle çarp\",a*2)\n"
   ]
  },
  {
   "cell_type": "code",
   "execution_count": 4,
   "id": "5c149865",
   "metadata": {},
   "outputs": [
    {
     "name": "stdout",
     "output_type": "stream",
     "text": [
      "toplamları 12\n"
     ]
    },
    {
     "ename": "TypeError",
     "evalue": "unsupported operand type(s) for *: 'NoneType' and 'int'",
     "output_type": "error",
     "traceback": [
      "\u001b[1;31m---------------------------------------------------------------------------\u001b[0m",
      "\u001b[1;31mTypeError\u001b[0m                                 Traceback (most recent call last)",
      "\u001b[1;32mC:\\Users\\HASANK~1\\AppData\\Local\\Temp/ipykernel_4944/2485286689.py\u001b[0m in \u001b[0;36m<module>\u001b[1;34m\u001b[0m\n\u001b[0;32m      1\u001b[0m \u001b[0mtoplam\u001b[0m \u001b[1;33m=\u001b[0m \u001b[0mtoplama\u001b[0m\u001b[1;33m(\u001b[0m\u001b[1;36m3\u001b[0m\u001b[1;33m,\u001b[0m\u001b[1;36m4\u001b[0m\u001b[1;33m,\u001b[0m\u001b[1;36m5\u001b[0m\u001b[1;33m)\u001b[0m\u001b[1;33m\u001b[0m\u001b[1;33m\u001b[0m\u001b[0m\n\u001b[1;32m----> 2\u001b[1;33m \u001b[0mikiyleçarp\u001b[0m\u001b[1;33m(\u001b[0m\u001b[0mtoplam\u001b[0m\u001b[1;33m)\u001b[0m\u001b[1;33m\u001b[0m\u001b[1;33m\u001b[0m\u001b[0m\n\u001b[0m",
      "\u001b[1;32mC:\\Users\\HASANK~1\\AppData\\Local\\Temp/ipykernel_4944/595165511.py\u001b[0m in \u001b[0;36mikiyleçarp\u001b[1;34m(a)\u001b[0m\n\u001b[0;32m      2\u001b[0m     \u001b[0mprint\u001b[0m\u001b[1;33m(\u001b[0m\u001b[1;34m\"toplamları\"\u001b[0m\u001b[1;33m,\u001b[0m\u001b[0ma\u001b[0m\u001b[1;33m+\u001b[0m\u001b[0mb\u001b[0m\u001b[1;33m+\u001b[0m\u001b[0mc\u001b[0m\u001b[1;33m)\u001b[0m\u001b[1;33m\u001b[0m\u001b[1;33m\u001b[0m\u001b[0m\n\u001b[0;32m      3\u001b[0m \u001b[1;32mdef\u001b[0m \u001b[0mikiyleçarp\u001b[0m\u001b[1;33m(\u001b[0m\u001b[0ma\u001b[0m\u001b[1;33m)\u001b[0m\u001b[1;33m:\u001b[0m\u001b[1;33m\u001b[0m\u001b[1;33m\u001b[0m\u001b[0m\n\u001b[1;32m----> 4\u001b[1;33m     \u001b[0mprint\u001b[0m\u001b[1;33m(\u001b[0m\u001b[1;34m\"ikiyle çarp\"\u001b[0m\u001b[1;33m,\u001b[0m\u001b[0ma\u001b[0m\u001b[1;33m*\u001b[0m\u001b[1;36m2\u001b[0m\u001b[1;33m)\u001b[0m\u001b[1;33m\u001b[0m\u001b[1;33m\u001b[0m\u001b[0m\n\u001b[0m",
      "\u001b[1;31mTypeError\u001b[0m: unsupported operand type(s) for *: 'NoneType' and 'int'"
     ]
    }
   ],
   "source": [
    "toplam = toplama(3,4,5)\n",
    "ikiyleçarp(toplam)"
   ]
  },
  {
   "cell_type": "code",
   "execution_count": 6,
   "id": "12b3b9f9",
   "metadata": {},
   "outputs": [
    {
     "data": {
      "text/plain": [
       "NoneType"
      ]
     },
     "execution_count": 6,
     "metadata": {},
     "output_type": "execute_result"
    }
   ],
   "source": [
    "type(toplam)"
   ]
  },
  {
   "cell_type": "code",
   "execution_count": 7,
   "id": "d2a4ab2a",
   "metadata": {},
   "outputs": [],
   "source": [
    "def toplama(a,b,c):\n",
    "    return a+b+c\n",
    "def ikiyleçarp(a):\n",
    "    return a*2\n"
   ]
  },
  {
   "cell_type": "code",
   "execution_count": 13,
   "id": "6413d794",
   "metadata": {},
   "outputs": [
    {
     "name": "stdout",
     "output_type": "stream",
     "text": [
      "12\n",
      "24\n"
     ]
    }
   ],
   "source": [
    "toplam = toplama(3,4,5)\n",
    "print(toplam)\n",
    "print(ikiyleçarp(toplam))\n"
   ]
  },
  {
   "cell_type": "code",
   "execution_count": 25,
   "id": "04b35a37",
   "metadata": {},
   "outputs": [],
   "source": [
    "def ikiyeböl(a):\n",
    "    print(\"1.fonksiyon çalışıyor\")\n",
    "    return a/2"
   ]
  },
  {
   "cell_type": "code",
   "execution_count": 26,
   "id": "49828b63",
   "metadata": {},
   "outputs": [],
   "source": [
    "def onlaçarp(a):\n",
    "    print(\"2. fonksiyon çalışıyor\")\n",
    "    return a*10"
   ]
  },
  {
   "cell_type": "code",
   "execution_count": 27,
   "id": "65216118",
   "metadata": {},
   "outputs": [],
   "source": [
    "def altıekle(a):\n",
    "    print(\"3. fonksiyon çalışıyor\")\n",
    "    return a+6"
   ]
  },
  {
   "cell_type": "code",
   "execution_count": 24,
   "id": "d4f7bb34",
   "metadata": {},
   "outputs": [
    {
     "name": "stdout",
     "output_type": "stream",
     "text": [
      "3. fonksiyon çalışıyor\n",
      "1.fonksiyon çalışıyor\n",
      "2. fonksiyon çalışıyor\n",
      "55.0\n"
     ]
    }
   ],
   "source": [
    "print(onlaçarp(ikiyeböl(altıekle(5))))"
   ]
  },
  {
   "cell_type": "code",
   "execution_count": 28,
   "id": "ad48b624",
   "metadata": {},
   "outputs": [],
   "source": [
    "def deneme(a,b,c):\n",
    "    print(\"returndan sonraki hiçbir şey kodda çalışmaz!!!\")\n",
    "    return a,b,c"
   ]
  },
  {
   "cell_type": "code",
   "execution_count": 30,
   "id": "a6233ae1",
   "metadata": {},
   "outputs": [
    {
     "name": "stdout",
     "output_type": "stream",
     "text": [
      "returndan sonraki hiçbir şey kodda çalışmaz!!!\n"
     ]
    },
    {
     "data": {
      "text/plain": [
       "(1, 2, 3)"
      ]
     },
     "execution_count": 30,
     "metadata": {},
     "output_type": "execute_result"
    }
   ],
   "source": [
    "deneme(1,2,3)"
   ]
  },
  {
   "cell_type": "code",
   "execution_count": null,
   "id": "30aa0912",
   "metadata": {},
   "outputs": [],
   "source": []
  }
 ],
 "metadata": {
  "kernelspec": {
   "display_name": "Python 3 (ipykernel)",
   "language": "python",
   "name": "python3"
  },
  "language_info": {
   "codemirror_mode": {
    "name": "ipython",
    "version": 3
   },
   "file_extension": ".py",
   "mimetype": "text/x-python",
   "name": "python",
   "nbconvert_exporter": "python",
   "pygments_lexer": "ipython3",
   "version": "3.9.9"
  }
 },
 "nbformat": 4,
 "nbformat_minor": 5
}
